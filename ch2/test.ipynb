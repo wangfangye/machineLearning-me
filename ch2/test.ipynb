{
 "cells": [
  {
   "cell_type": "code",
   "execution_count": 1,
   "metadata": {
    "collapsed": false
   },
   "outputs": [],
   "source": [
    "import ch2.kNN as kNN"
   ]
  },
  {
   "cell_type": "markdown",
   "metadata": {},
   "source": [
    "###简易dataset分类器"
   ]
  },
  {
   "cell_type": "code",
   "execution_count": 2,
   "metadata": {},
   "outputs": [
    {
     "data": {
      "text/plain": [
       "'B'"
      ]
     },
     "execution_count": 2,
     "metadata": {},
     "output_type": "execute_result"
    }
   ],
   "source": [
    "group, labels = kNN.createDataSet()\n",
    "kNN.classify0([0,0], group, labels, 3)"
   ]
  },
  {
   "cell_type": "code",
   "execution_count": 3,
   "metadata": {},
   "outputs": [
    {
     "data": {
      "text/plain": [
       "'A'"
      ]
     },
     "execution_count": 3,
     "metadata": {},
     "output_type": "execute_result"
    }
   ],
   "source": [
    "kNN.classify0([1,1], group, labels, 3)"
   ]
  },
  {
   "cell_type": "code",
   "execution_count": 4,
   "metadata": {},
   "outputs": [
    {
     "name": "stdout",
     "output_type": "stream",
     "text": [
      "[[4.0920000e+04 8.3269760e+00 9.5395200e-01]\n [1.4488000e+04 7.1534690e+00 1.6739040e+00]\n [2.6052000e+04 1.4418710e+00 8.0512400e-01]\n [7.5136000e+04 1.3147394e+01 4.2896400e-01]\n [3.8344000e+04 1.6697880e+00 1.3429600e-01]]\n[3, 2, 1, 1, 1]\n"
     ]
    }
   ],
   "source": [
    "datingDateMat, datingLabels = kNN.file2matrix('datingTestSet2.txt')\n",
    "print(datingDateMat[:5])\n",
    "print(datingLabels[:5])"
   ]
  },
  {
   "cell_type": "markdown",
   "metadata": {},
   "source": [
    "###KNN算法对约会网站进行分类"
   ]
  },
  {
   "cell_type": "code",
   "execution_count": 5,
   "metadata": {
    "collapsed": true
   },
   "outputs": [
    {
     "name": "stdout",
     "output_type": "stream",
     "text": [
      "the total error rate is: 0.066000\n"
     ]
    },
    {
     "data": {
      "text/plain": [
       "0.066"
      ]
     },
     "execution_count": 5,
     "metadata": {},
     "output_type": "execute_result"
    }
   ],
   "source": [
    "kNN.datingClassTest(0.5)"
   ]
  },
  {
   "cell_type": "markdown",
   "metadata": {},
   "source": [
    "#### 在测试集的比率上进行改进\n",
    "###以0.02为梯度，从0.1开始到0.92 对错误率进行制图改进"
   ]
  },
  {
   "cell_type": "code",
   "execution_count": 6,
   "metadata": {
    "collapsed": false
   },
   "outputs": [
    {
     "name": "stdout",
     "output_type": "stream",
     "text": [
      "hoRatio is :  0.1\nthe total error rate is: 0.050000\nhoRatio is :  0.12000000000000001\nthe total error rate is: 0.058333\nhoRatio is :  0.14\nthe total error rate is: 0.057143\nhoRatio is :  0.16\nthe total error rate is: 0.062500\nhoRatio is :  0.18\nthe total error rate is: 0.072222\nhoRatio is :  0.19999999999999998\nthe total error rate is: 0.080402\nhoRatio is :  0.21999999999999997\nthe total error rate is: 0.077626\nhoRatio is :  0.23999999999999996\nthe total error rate is: 0.079498\nhoRatio is :  0.25999999999999995\n"
     ]
    },
    {
     "name": "stdout",
     "output_type": "stream",
     "text": [
      "the total error rate is: 0.077220\nhoRatio is :  0.27999999999999997\nthe total error rate is: 0.071685\nhoRatio is :  0.3\nthe total error rate is: 0.083333\nhoRatio is :  0.32\nthe total error rate is: 0.084375\nhoRatio is :  0.34\nthe total error rate is: 0.079412\nhoRatio is :  0.36000000000000004\nthe total error rate is: 0.077778\nhoRatio is :  0.38000000000000006\n"
     ]
    },
    {
     "name": "stdout",
     "output_type": "stream",
     "text": [
      "the total error rate is: 0.078947\nhoRatio is :  0.4000000000000001\nthe total error rate is: 0.077500\nhoRatio is :  0.4200000000000001\nthe total error rate is: 0.069048\nhoRatio is :  0.4400000000000001\nthe total error rate is: 0.065909\nhoRatio is :  0.46000000000000013\n"
     ]
    },
    {
     "name": "stdout",
     "output_type": "stream",
     "text": [
      "the total error rate is: 0.065217\nhoRatio is :  0.48000000000000015\nthe total error rate is: 0.064583\nhoRatio is :  0.5000000000000001\nthe total error rate is: 0.066000\nhoRatio is :  0.5200000000000001\nthe total error rate is: 0.065385\nhoRatio is :  0.5400000000000001\n"
     ]
    },
    {
     "name": "stdout",
     "output_type": "stream",
     "text": [
      "the total error rate is: 0.062963\nhoRatio is :  0.5600000000000002\nthe total error rate is: 0.058929\nhoRatio is :  0.5800000000000002\nthe total error rate is: 0.063793\nhoRatio is :  0.6000000000000002\nthe total error rate is: 0.065000\nhoRatio is :  0.6200000000000002\n"
     ]
    },
    {
     "name": "stdout",
     "output_type": "stream",
     "text": [
      "the total error rate is: 0.059677\nhoRatio is :  0.6400000000000002\nthe total error rate is: 0.060937\nhoRatio is :  0.6600000000000003\nthe total error rate is: 0.060606\nhoRatio is :  0.6800000000000003\nthe total error rate is: 0.063235\nhoRatio is :  0.7000000000000003\n"
     ]
    },
    {
     "name": "stdout",
     "output_type": "stream",
     "text": [
      "the total error rate is: 0.062857\nhoRatio is :  0.7200000000000003\nthe total error rate is: 0.061111\nhoRatio is :  0.7400000000000003\nthe total error rate is: 0.058108\nhoRatio is :  0.7600000000000003\nthe total error rate is: 0.053947\nhoRatio is :  0.7800000000000004\nthe total error rate is: 0.058974\nhoRatio is :  0.8000000000000004\n"
     ]
    },
    {
     "name": "stdout",
     "output_type": "stream",
     "text": [
      "the total error rate is: 0.056250\nhoRatio is :  0.8200000000000004\nthe total error rate is: 0.062195\nhoRatio is :  0.8400000000000004\nthe total error rate is: 0.078571\nhoRatio is :  0.8600000000000004\nthe total error rate is: 0.083721\nhoRatio is :  0.8800000000000004\nthe total error rate is: 0.076136\nhoRatio is :  0.9000000000000005\n"
     ]
    },
    {
     "name": "stdout",
     "output_type": "stream",
     "text": [
      "the total error rate is: 0.081111\n41\n"
     ]
    }
   ],
   "source": [
    "import numpy as np\n",
    "hoRatio = 0.1\n",
    "i = 0\n",
    "hoRatios = np.zeros((41,2))\n",
    "while(hoRatio <= 0.92):\n",
    "    print('hoRatio is : ', hoRatio)\n",
    "    a = kNN.datingClassTest(hoRatio)\n",
    "    hoRatios[i] = np.tile([hoRatio, a],(1,1))\n",
    "    hoRatio += 0.02\n",
    "    i += 1\n",
    "print(i)"
   ]
  },
  {
   "cell_type": "code",
   "execution_count": 7,
   "metadata": {},
   "outputs": [
    {
     "data": {
      "text/plain": [
       "array([[0.1       , 0.05      ],\n       [0.12      , 0.05833333],\n       [0.14      , 0.05714286],\n       [0.16      , 0.0625    ],\n       [0.18      , 0.07222222],\n       [0.2       , 0.08040201],\n       [0.22      , 0.07762557],\n       [0.24      , 0.07949791],\n       [0.26      , 0.07722008],\n       [0.28      , 0.07168459],\n       [0.3       , 0.08333333],\n       [0.32      , 0.084375  ],\n       [0.34      , 0.07941176],\n       [0.36      , 0.07777778],\n       [0.38      , 0.07894737],\n       [0.4       , 0.0775    ],\n       [0.42      , 0.06904762],\n       [0.44      , 0.06590909],\n       [0.46      , 0.06521739],\n       [0.48      , 0.06458333],\n       [0.5       , 0.066     ],\n       [0.52      , 0.06538462],\n       [0.54      , 0.06296296],\n       [0.56      , 0.05892857],\n       [0.58      , 0.0637931 ],\n       [0.6       , 0.065     ],\n       [0.62      , 0.05967742],\n       [0.64      , 0.0609375 ],\n       [0.66      , 0.06060606],\n       [0.68      , 0.06323529],\n       [0.7       , 0.06285714],\n       [0.72      , 0.06111111],\n       [0.74      , 0.05810811],\n       [0.76      , 0.05394737],\n       [0.78      , 0.05897436],\n       [0.8       , 0.05625   ],\n       [0.82      , 0.06219512],\n       [0.84      , 0.07857143],\n       [0.86      , 0.08372093],\n       [0.88      , 0.07613636],\n       [0.9       , 0.08111111]])"
      ]
     },
     "execution_count": 7,
     "metadata": {},
     "output_type": "execute_result"
    }
   ],
   "source": [
    "hoRatios"
   ]
  },
  {
   "cell_type": "code",
   "execution_count": 8,
   "metadata": {},
   "outputs": [
    {
     "name": "stdout",
     "output_type": "stream",
     "text": [
      "<class 'numpy.ndarray'>\n"
     ]
    },
    {
     "data": {
      "image/png": "[encoded data removed]",
      "text/plain": [
       "<matplotlib.figure.Figure at 0x24c994c5ba8>"
      ]
     },
     "metadata": {},
     "output_type": "display_data"
    }
   ],
   "source": [
    "import numpy as np\n",
    "import matplotlib.pyplot as plt\n",
    "%matplotlib inline\n",
    "x = np.linspace(0, 100)\n",
    "y1, y2 = hoRatios[:,0], hoRatios[:,1]\n",
    "print(type(np.sin(x)))\n",
    "plt.plot(y1, y2, label='error_rate')\n",
    "plt.xlabel('hoRatio')\n",
    "plt.ylabel('errorRate')\n",
    "plt.legend()\n",
    "plt.show()"
   ]
  },
  {
   "cell_type": "code",
   "execution_count": 9,
   "metadata": {},
   "outputs": [
    {
     "name": "stdout",
     "output_type": "stream",
     "text": [
      "41\n"
     ]
    }
   ],
   "source": [
    "hoRatio = 0.1\n",
    "i = 0\n",
    "while(hoRatio <= 0.92):\n",
    "    hoRatio += 0.02\n",
    "    i += 1\n",
    "print(i)"
   ]
  },
  {
   "cell_type": "code",
   "execution_count": 10,
   "metadata": {},
   "outputs": [
    {
     "data": {
      "text/plain": [
       "0.010570824524312896"
      ]
     },
     "execution_count": 10,
     "metadata": {},
     "output_type": "execute_result"
    }
   ],
   "source": [
    "kNN.handwritingClassTest(3)"
   ]
  },
  {
   "cell_type": "code",
   "execution_count": 11,
   "metadata": {},
   "outputs": [
    {
     "name": "stdout",
     "output_type": "stream",
     "text": [
      "21\n"
     ]
    }
   ],
   "source": [
    "k = 4\n",
    "while(k <= 20):\n",
    "    k += 1\n",
    "print(k)"
   ]
  },
  {
   "cell_type": "code",
   "execution_count": 12,
   "metadata": {
    "collapsed": true
   },
   "outputs": [],
   "source": [
    ""
   ]
  },
  {
   "cell_type": "code",
   "execution_count": 12,
   "metadata": {
    "collapsed": false
   },
   "outputs": [
    {
     "name": "stdout",
     "output_type": "stream",
     "text": [
      "[1.         0.01374207]\n"
     ]
    },
    {
     "name": "stdout",
     "output_type": "stream",
     "text": [
      "[2.         0.01374207]\n"
     ]
    },
    {
     "name": "stdout",
     "output_type": "stream",
     "text": [
      "[3.         0.01057082]\n"
     ]
    },
    {
     "name": "stdout",
     "output_type": "stream",
     "text": [
      "[4.         0.01162791]\n"
     ]
    },
    {
     "name": "stdout",
     "output_type": "stream",
     "text": [
      "[5.        0.0179704]\n"
     ]
    },
    {
     "name": "stdout",
     "output_type": "stream",
     "text": [
      "[6.        0.0179704]\n"
     ]
    },
    {
     "name": "stdout",
     "output_type": "stream",
     "text": [
      "[7.         0.02219873]\n"
     ]
    },
    {
     "name": "stdout",
     "output_type": "stream",
     "text": [
      "[8.         0.01902748]\n"
     ]
    },
    {
     "name": "stdout",
     "output_type": "stream",
     "text": [
      "[9.         0.02219873]\n"
     ]
    },
    {
     "name": "stdout",
     "output_type": "stream",
     "text": [
      "[10.          0.02008457]\n"
     ]
    },
    {
     "name": "stdout",
     "output_type": "stream",
     "text": [
      "[11.          0.02008457]\n"
     ]
    },
    {
     "name": "stdout",
     "output_type": "stream",
     "text": [
      "[12.          0.02008457]\n"
     ]
    },
    {
     "name": "stdout",
     "output_type": "stream",
     "text": [
      "[13.          0.02536998]\n"
     ]
    },
    {
     "name": "stdout",
     "output_type": "stream",
     "text": [
      "[14.          0.02536998]\n"
     ]
    },
    {
     "name": "stdout",
     "output_type": "stream",
     "text": [
      "[15.          0.02642706]\n"
     ]
    },
    {
     "name": "stdout",
     "output_type": "stream",
     "text": [
      "[16.          0.02536998]\n"
     ]
    },
    {
     "name": "stdout",
     "output_type": "stream",
     "text": [
      "[17.          0.02325581]\n"
     ]
    },
    {
     "name": "stdout",
     "output_type": "stream",
     "text": [
      "[18.          0.02642706]\n"
     ]
    },
    {
     "name": "stdout",
     "output_type": "stream",
     "text": [
      "[19.          0.02536998]\n"
     ]
    },
    {
     "name": "stdout",
     "output_type": "stream",
     "text": [
      "[20.          0.02748414]\n21\n"
     ]
    }
   ],
   "source": [
    "import numpy as np\n",
    "\n",
    "k = 1\n",
    "i = 0\n",
    "xylabel = np.zeros((20,2))\n",
    "while(k <= 20):\n",
    "    a = kNN.handwritingClassTest(k)\n",
    "    xylabel[i] = np.tile([k, a],(1,1))\n",
    "    print(xylabel[i])\n",
    "    i += 1\n",
    "    k += 1\n",
    "print(k)"
   ]
  },
  {
   "cell_type": "code",
   "execution_count": 4,
   "metadata": {},
   "outputs": [
    {
     "data": {
      "text/plain": [
       "array([1., 2.])"
      ]
     },
     "execution_count": 4,
     "metadata": {},
     "output_type": "execute_result"
    }
   ],
   "source": [
    ""
   ]
  },
  {
   "cell_type": "code",
   "execution_count": null,
   "metadata": {},
   "outputs": [],
   "source": [
    "import matplotlib.pyplot as plt\n",
    "\n",
    "y1, y2 = xylabel[:,0], xylabel[:,1]\n",
    "plt.plot(y1, y2, label='error_rate')\n",
    "plt.xlabel('k')\n",
    "plt.ylabel('errorRate')\n",
    "plt.legend()\n",
    "plt.show()"
   ]
  }
 ],
 "metadata": {
  "kernelspec": {
   "display_name": "Python 2",
   "language": "python",
   "name": "python2"
  },
  "language_info": {
   "codemirror_mode": {
    "name": "ipython",
    "version": 2
   },
   "file_extension": ".py",
   "mimetype": "text/x-python",
   "name": "python",
   "nbconvert_exporter": "python",
   "pygments_lexer": "ipython2",
   "version": "2.7.6"
  }
 },
 "nbformat": 4,
 "nbformat_minor": 0
}
